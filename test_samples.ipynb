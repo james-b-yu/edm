{
 "cells": [
  {
   "cell_type": "code",
   "execution_count": 30,
   "metadata": {},
   "outputs": [
    {
     "name": "stdout",
     "output_type": "stream",
     "text": [
      "The autoreload extension is already loaded. To reload it, use:\n",
      "  %reload_ext autoreload\n"
     ]
    }
   ],
   "source": [
    "%load_ext autoreload\n",
    "%autoreload 2\n",
    "\n",
    "import sys\n",
    "sys.argv = [\"\"]\n",
    "\n",
    "from models.variance_edm import VarianceEDM\n",
    "from configs.model_config import EDMConfig\n",
    "import torch\n",
    "from configs.dataset_config import DATASET_INFO\n",
    "\n",
    "from qm9.rdkit_functions import BasicMolecularMetrics\n",
    "from configs.datasets_config import qm9_with_h\n",
    "\n",
    "import numpy as np\n",
    "from tqdm.auto import tqdm"
   ]
  },
  {
   "cell_type": "markdown",
   "metadata": {},
   "source": [
    "### Define the device"
   ]
  },
  {
   "cell_type": "code",
   "execution_count": 17,
   "metadata": {},
   "outputs": [],
   "source": [
    "device = \"cuda\""
   ]
  },
  {
   "cell_type": "markdown",
   "metadata": {},
   "source": [
    "### Load the pretrained weights"
   ]
  },
  {
   "cell_type": "code",
   "execution_count": 18,
   "metadata": {},
   "outputs": [],
   "source": [
    "edm = VarianceEDM(EDMConfig(device=device))\n",
    "sd = torch.load(\"./pretrained/variance_with_h/model.pth\", map_location=device)\n",
    "edm.load_state_dict(sd)\n",
    "edm.eval();"
   ]
  },
  {
   "cell_type": "markdown",
   "metadata": {},
   "source": [
    "### Create <s>1000</s> 64 samples"
   ]
  },
  {
   "cell_type": "code",
   "execution_count": 19,
   "metadata": {},
   "outputs": [
    {
     "data": {
      "application/vnd.jupyter.widget-view+json": {
       "model_id": "dba622a9130644f38af57be7a8aa12f8",
       "version_major": 2,
       "version_minor": 0
      },
      "text/plain": [
       "  0%|          | 0/64 [00:00<?, ?sample/s]"
      ]
     },
     "metadata": {},
     "output_type": "display_data"
    },
    {
     "data": {
      "application/vnd.jupyter.widget-view+json": {
       "model_id": "879ff2779f5c4ad9bc9fed44f5bbe036",
       "version_major": 2,
       "version_minor": 0
      },
      "text/plain": [
       "  0%|          | 0/1000 [00:00<?, ?step/s]"
      ]
     },
     "metadata": {},
     "output_type": "display_data"
    }
   ],
   "source": [
    "num_molecules = 64  # = 1000\n",
    "batch_size = 64\n",
    "mol_sizes = torch.tensor(list(DATASET_INFO[\"qm9\"][\"molecule_size_histogram\"].keys()), dtype=torch.long, device=device)\n",
    "mol_size_probs = torch.tensor(list(DATASET_INFO[\"qm9\"][\"molecule_size_histogram\"].values()), dtype=torch.float, device=device)\n",
    "samples = edm.sample(num_molecules, batch_size, mol_sizes, mol_size_probs)"
   ]
  },
  {
   "cell_type": "markdown",
   "metadata": {},
   "source": [
    "### Get validity and uniqueness"
   ]
  },
  {
   "cell_type": "code",
   "execution_count": 27,
   "metadata": {},
   "outputs": [
    {
     "name": "stderr",
     "output_type": "stream",
     "text": [
      "[14:03:45] Explicit valence for atom # 6 C, 5, is greater than permitted\n",
      "[14:03:45] Explicit valence for atom # 8 N, 4, is greater than permitted\n",
      "[14:03:45] Explicit valence for atom # 10 N, 4, is greater than permitted\n"
     ]
    },
    {
     "name": "stdout",
     "output_type": "stream",
     "text": [
      "Validity over 64 molecules: 93.75%\n",
      "Uniqueness over 60 valid molecules: 100.00%\n"
     ]
    },
    {
     "name": "stderr",
     "output_type": "stream",
     "text": [
      "[14:03:45] Explicit valence for atom # 12 N, 4, is greater than permitted\n"
     ]
    }
   ],
   "source": [
    "m = BasicMolecularMetrics(qm9_with_h)\n",
    "(validity, uniqueness, _) , _= m.evaluate([(torch.from_numpy(s[0]), torch.from_numpy(s[1]).argmax(dim=-1)) for s in samples])"
   ]
  },
  {
   "cell_type": "markdown",
   "metadata": {},
   "source": [
    "### Get stability"
   ]
  },
  {
   "cell_type": "code",
   "execution_count": 31,
   "metadata": {},
   "outputs": [],
   "source": [
    "from qm9 import bond_analyze\n",
    "\n",
    "# this is copied from the original repo\n",
    "def check_stability(positions, atom_type, dataset_info, debug=False):\n",
    "    assert len(positions.shape) == 2\n",
    "    assert positions.shape[1] == 3\n",
    "    atom_decoder = dataset_info['atom_decoder']\n",
    "    x = positions[:, 0]\n",
    "    y = positions[:, 1]\n",
    "    z = positions[:, 2]\n",
    "\n",
    "    nr_bonds = np.zeros(len(x), dtype='int')\n",
    "\n",
    "    for i in range(len(x)):\n",
    "        for j in range(i + 1, len(x)):\n",
    "            p1 = np.array([x[i], y[i], z[i]])\n",
    "            p2 = np.array([x[j], y[j], z[j]])\n",
    "            dist = np.sqrt(np.sum((p1 - p2) ** 2))\n",
    "            atom1, atom2 = atom_decoder[atom_type[i]], atom_decoder[atom_type[j]]\n",
    "            pair = sorted([atom_type[i], atom_type[j]])\n",
    "            if dataset_info['name'] == 'qm7b' or dataset_info['name'] == 'qm9' or dataset_info['name'] == 'qm9_second_half' or dataset_info['name'] == 'qm9_first_half':\n",
    "                order = bond_analyze.get_bond_order(atom1, atom2, dist)\n",
    "            elif dataset_info['name'] == 'geom':\n",
    "                order = bond_analyze.geom_predictor(\n",
    "                    (atom_decoder[pair[0]], atom_decoder[pair[1]]), dist)\n",
    "            nr_bonds[i] += order\n",
    "            nr_bonds[j] += order\n",
    "    nr_stable_bonds = 0\n",
    "    for atom_type_i, nr_bonds_i in zip(atom_type, nr_bonds):\n",
    "        possible_bonds = bond_analyze.allowed_bonds[atom_decoder[atom_type_i]]\n",
    "        if type(possible_bonds) == int:\n",
    "            is_stable = possible_bonds == nr_bonds_i\n",
    "        else:\n",
    "            is_stable = nr_bonds_i in possible_bonds\n",
    "        if not is_stable and debug:\n",
    "            print(\"Invalid bonds for molecule %s with %d bonds\" % (atom_decoder[atom_type_i], nr_bonds_i))\n",
    "        nr_stable_bonds += int(is_stable)\n",
    "\n",
    "    molecule_stable = nr_stable_bonds == len(x)\n",
    "    return molecule_stable, nr_stable_bonds, len(x)"
   ]
  },
  {
   "cell_type": "code",
   "execution_count": 32,
   "metadata": {},
   "outputs": [],
   "source": [
    "samples_torch = [(torch.from_numpy(s[0]), torch.from_numpy(s[1]).argmax(dim=-1)) for s in samples]"
   ]
  },
  {
   "cell_type": "code",
   "execution_count": 33,
   "metadata": {},
   "outputs": [
    {
     "data": {
      "application/vnd.jupyter.widget-view+json": {
       "model_id": "21164005b0494477b4a13851e25dda82",
       "version_major": 2,
       "version_minor": 0
      },
      "text/plain": [
       "  0%|          | 0/64 [00:00<?, ?it/s]"
      ]
     },
     "metadata": {},
     "output_type": "display_data"
    }
   ],
   "source": [
    "res = [check_stability(s[0], s[1], qm9_with_h) for s in tqdm(samples_torch)]"
   ]
  },
  {
   "cell_type": "code",
   "execution_count": 36,
   "metadata": {},
   "outputs": [
    {
     "name": "stdout",
     "output_type": "stream",
     "text": [
      "Molecule stability was 0.86 and atom stability was 0.99\n"
     ]
    }
   ],
   "source": [
    "molecule_stabililty = np.mean([r[0] for r in res])\n",
    "atom_stability = np.sum([r[1] for r in res]) / np.sum([r[2] for r in res])\n",
    "\n",
    "print(f\"Molecule stability was {molecule_stabililty:.2f} and atom stability was {atom_stability:.2f}\")"
   ]
  },
  {
   "cell_type": "code",
   "execution_count": null,
   "metadata": {},
   "outputs": [],
   "source": []
  }
 ],
 "metadata": {
  "kernelspec": {
   "display_name": "Python 3",
   "language": "python",
   "name": "python3"
  },
  "language_info": {
   "codemirror_mode": {
    "name": "ipython",
    "version": 3
   },
   "file_extension": ".py",
   "mimetype": "text/x-python",
   "name": "python",
   "nbconvert_exporter": "python",
   "pygments_lexer": "ipython3",
   "version": "3.13.2"
  }
 },
 "nbformat": 4,
 "nbformat_minor": 2
}
